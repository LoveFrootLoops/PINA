{
 "cells": [
  {
   "attachments": {},
   "cell_type": "markdown",
   "metadata": {},
   "source": [
    "# N = 1000000, n_epochs = 101\n",
    "# Apply Hypervolume to compare the results"
   ]
  },
  {
   "attachments": {},
   "cell_type": "markdown",
   "metadata": {},
   "source": [
    "### Modify equilibrium equations to reduce number of outputs"
   ]
  },
  {
   "cell_type": "code",
   "execution_count": 11,
   "metadata": {
    "ExecuteTime": {
     "end_time": "2023-06-30T15:59:13.717921Z",
     "start_time": "2023-06-30T15:59:13.618845600Z"
    }
   },
   "outputs": [],
   "source": [
    "from pina import PINN, Condition, LabelTensor, Plotter\n",
    "from pina.problem import SpatialProblem\n",
    "from pina.operators import grad, div, nabla\n",
    "from pina.model import FeedForward\n",
    "from pina.geometry import CartesianDomain\n",
    "from pina.equation.equation import Equation\n",
    "from pina.equation.system_equation import SystemEquation\n",
    "from pina.trainer import Trainer\n",
    "\n",
    "import matplotlib.pyplot as plt\n",
    "\n",
    "import numpy as np\n",
    "import math\n",
    "import torch\n",
    "import sys\n",
    "\n",
    "import faiss"
   ]
  },
  {
   "attachments": {},
   "cell_type": "markdown",
   "metadata": {},
   "source": [
    "### Create data points"
   ]
  },
  {
   "cell_type": "code",
   "execution_count": 12,
   "metadata": {
    "ExecuteTime": {
     "end_time": "2023-06-30T15:59:15.361611Z",
     "start_time": "2023-06-30T15:59:13.655089400Z"
    }
   },
   "outputs": [],
   "source": [
    "# Create data points\n",
    "def find_sqrt_matrix(input):\n",
    "    evalues, evectors = torch.linalg.eig(input)\n",
    "    sqrt_matrix = evectors * torch.sqrt(evalues) @ torch.linalg.inv(evectors)\n",
    "    return sqrt_matrix.real\n",
    "\n",
    "def symsqrt(matrix):\n",
    "    _, s, v = matrix.svd()  # passes torch.autograd.gradcheck()\n",
    "    above_cutoff = s > s.max() * s.size(-1) * torch.finfo(s.dtype).eps\n",
    "    s = s[..., above_cutoff]\n",
    "    v = v[..., above_cutoff]\n",
    "    return (v * s.sqrt().unsqueeze(-2)) @ v.transpose(-2, -1)\n",
    "def scale(C, x):\n",
    "    return 1 / math.sqrt(2) * torch.matmul(C, x.T).mT.double()\n",
    "\n",
    "E = 7\n",
    "NU = 0.3\n",
    "\n",
    "# Plane stress\n",
    "# MU = E/(2*(1+NU))\n",
    "# LAMBDA = E*NU/((1+NU)*(1-NU))\n",
    "\n",
    "# Plane strain\n",
    "MU = E/(2*(1+NU))\n",
    "LAMBDA = E*NU/((1+NU)*(1-2*NU))\n",
    "\n",
    "C = torch.zeros(3, 3)\n",
    "C[0,0], C[1,1] = 1, 1\n",
    "C[0,1], C[1,0] = NU, NU\n",
    "C[2,2] = 1-NU\n",
    "C = E/(1-NU*NU) * C\n",
    "Cinv = torch.inverse(C)\n",
    "Csqrt = find_sqrt_matrix(C)\n",
    "Cinvsqrt = find_sqrt_matrix(Cinv)\n",
    "\n",
    "# N = np.power(100, 3)\n",
    "def create_data(ndata):\n",
    "    data_eps = torch.distributions.Uniform(-0.1, 0.1).sample((ndata, 3))\n",
    "    data_sig = torch.matmul(C, data_eps.T).mT\n",
    "    data_eps_sc = scale(Csqrt, data_eps).float()\n",
    "    data_sig_sc = scale(Cinvsqrt, data_sig).float()\n",
    "    data_sc = torch.stack((data_eps_sc, data_sig_sc), dim=1).reshape(ndata, 6)\n",
    "    return data_eps, data_sig, data_sc\n",
    "N = 100000\n",
    "data_eps, data_sig, data_sc = create_data(N)\n",
    "\n",
    "# plt.scatter(data_eps[:, 0], data_sig[:, 0],\n",
    "#             c='blue', edgecolors='none', s=30, label='xx')\n",
    "# plt.scatter(data_eps[:, 1], data_sig[:, 1],\n",
    "#             c='red', edgecolors='none', s=30, label='yy')\n",
    "# plt.scatter(2*data_eps[:, 2], 2*data_sig[:, 2],\n",
    "#             c='green', edgecolors='none', s=30, label='xy')\n",
    "# plt.legend(loc=2)\n",
    "# plt.xlabel('epsilon')\n",
    "# plt.ylabel('sigma')\n",
    "# plt.show()\n",
    "\n",
    "vec_eps_hat = 1/math.sqrt(2) * torch.matmul(Csqrt, data_eps.T).mT\n",
    "vec_sig_hat = 1/math.sqrt(2) * torch.matmul(Cinvsqrt, data_sig.T).mT\n",
    "vec_eps_hat = torch.squeeze(vec_eps_hat)\n",
    "vec_sig_hat = torch.squeeze(vec_sig_hat)\n",
    "data = torch.cat([vec_eps_hat, vec_sig_hat], dim=1)\n",
    "\n",
    "d = 6\n",
    "nlist = 1000\n",
    "k = 1\n",
    "quantizer = faiss.IndexFlatL2(d)\n",
    "index = faiss.IndexIVFFlat(quantizer, d, nlist)\n",
    "assert not index.is_trained\n",
    "index.train(data)\n",
    "assert index.is_trained\n",
    "index.add(data)\n",
    "index.nprobe = 100"
   ]
  },
  {
   "attachments": {},
   "cell_type": "markdown",
   "metadata": {},
   "source": [
    "### Parameters and Boundary Condition Functions"
   ]
  },
  {
   "cell_type": "code",
   "execution_count": 13,
   "metadata": {
    "ExecuteTime": {
     "end_time": "2023-06-30T15:59:15.377608100Z",
     "start_time": "2023-06-30T15:59:15.362608400Z"
    }
   },
   "outputs": [],
   "source": [
    "def initial_condition_left(input_, output_):\n",
    "    exx, eyy, exy, sxx, syy, sxy, sxx_x, syy_y, sxy_x, sxy_y = \\\n",
    "        calculateSigmaAndEpsilon(input_, output_)\n",
    "    value = 0.0\n",
    "    return torch.hstack([sxx - value,sxy - value])\n",
    "\n",
    "def initial_condition_bottom(input_, output_):\n",
    "    exx, eyy, exy, sxx, syy, sxy, sxx_x, syy_y, sxy_x, sxy_y = \\\n",
    "        calculateSigmaAndEpsilon(input_, output_)\n",
    "    value = 0.0\n",
    "    return torch.hstack([syy - value,sxy - value])\n",
    "\n",
    "def initial_condition_top(input_, output_):\n",
    "    exx, eyy, exy, sxx, syy, sxy, sxx_x, syy_y, sxy_x, sxy_y = \\\n",
    "        calculateSigmaAndEpsilon(input_, output_)\n",
    "    value = 0.0\n",
    "    return torch.hstack([syy - value,sxy - value])\n",
    "\n",
    "def initial_condition_right(input_, output_):\n",
    "    exx, eyy, exy, sxx, syy, sxy, sxx_x, syy_y, sxy_x, sxy_y = \\\n",
    "        calculateSigmaAndEpsilon(input_, output_)\n",
    "    value = 0.0\n",
    "    return torch.hstack([sxx - torch.cos(input_.extract(['y'])*torch.pi*(1/2)), sxy - value])\n",
    "\n",
    "def calculateSigmaAndEpsilon(input_, output_):\n",
    "    dux = grad(output_, input_, components=['ux'])\n",
    "    dduxdx = grad(dux, input_, components=['duxdx'])\n",
    "    dduxdy = grad(dux, input_, components=['duxdy'])\n",
    "    duy = grad(output_, input_, components=['uy'])\n",
    "    dduydx = grad(duy, input_, components=['duydx'])\n",
    "    dduydy = grad(duy, input_, components=['duydy'])\n",
    "\n",
    "    ux_x = dux.extract('duxdx')\n",
    "    ux_y = dux.extract('duxdy')\n",
    "    uy_x = duy.extract('duydx')\n",
    "    uy_y = duy.extract('duydy')\n",
    "\n",
    "    ux_xx = dduxdx.extract('dduxdxdx')\n",
    "    ux_xy = dduxdx.extract('dduxdxdy')\n",
    "    ux_yx = dduxdy.extract('dduxdydx')\n",
    "    ux_yy = dduxdy.extract('dduxdydy')\n",
    "    uy_yy = dduydy.extract('dduydydy')\n",
    "    uy_yx = dduydy.extract('dduydydx')\n",
    "    uy_xy = dduydx.extract('dduydxdy')\n",
    "    uy_xx = dduydx.extract('dduydxdx')\n",
    "\n",
    "    exx = ux_x\n",
    "    eyy = uy_y\n",
    "    exy = 0.5 * (ux_y + uy_x)\n",
    "\n",
    "    sxx = (2*MU + LAMBDA) * exx + LAMBDA * eyy\n",
    "    syy = LAMBDA * exx + (2*MU + LAMBDA) * eyy\n",
    "    sxy = 2 * MU * exy\n",
    "\n",
    "    sxx_x = (2*MU + LAMBDA) * ux_xx + LAMBDA * uy_yx\n",
    "    syy_y = (2*MU + LAMBDA) * uy_yy + LAMBDA * ux_xy\n",
    "    sxy_y = MU * (ux_yy + uy_xy)\n",
    "    sxy_x = MU * (ux_yx + uy_xx)\n",
    "\n",
    "    return exx, eyy, exy, sxx, syy, sxy, sxx_x, syy_y, sxy_x, sxy_y\n"
   ]
  },
  {
   "attachments": {},
   "cell_type": "markdown",
   "metadata": {},
   "source": [
    "### Equilibrium and Min Distance Functions"
   ]
  },
  {
   "cell_type": "code",
   "execution_count": 14,
   "metadata": {
    "ExecuteTime": {
     "end_time": "2023-06-30T15:59:15.407598100Z",
     "start_time": "2023-06-30T15:59:15.382595100Z"
    }
   },
   "outputs": [],
   "source": [
    "equiblirium_res = []\n",
    "equiblirium_res_fx = []\n",
    "equiblirium_res_fy = []\n",
    "min_dis_res = []\n",
    "\n",
    "def equiblirium(input_, output_):\n",
    "    exx, eyy, exy, sxx, syy, sxy, sxx_x, syy_y, sxy_x, sxy_y = \\\n",
    "        calculateSigmaAndEpsilon(input_, output_)\n",
    "    fx = sxx_x + sxy_y\n",
    "    fy = sxy_x + syy_y\n",
    "    return torch.hstack([fx, fy])\n",
    "\n",
    "def calculate_minimum_distance(input_, output_):\n",
    "    exx, eyy, exy, sxx, syy, sxy, sxx_x, syy_y, sxy_x, sxy_y = \\\n",
    "        calculateSigmaAndEpsilon(input_, output_)\n",
    "\n",
    "    vec_eps = torch.cat([exx, eyy, exy], dim=1).clone().detach()\n",
    "    vec_sig = torch.cat([sxx, syy, sxy], dim=1).clone().detach()\n",
    "    points = torch.cat([scale(Csqrt, vec_eps), scale(Cinvsqrt, vec_sig)], dim=1)\n",
    "\n",
    "    D, I = index.search(points, k)\n",
    "\n",
    "    residuals = torch.tensor(D)\n",
    "    residuals.requires_grad_(True)\n",
    "    min_dis_res.append(residuals)\n",
    "    return residuals"
   ]
  },
  {
   "attachments": {},
   "cell_type": "markdown",
   "metadata": {},
   "source": [
    "### Residual Functions"
   ]
  },
  {
   "cell_type": "code",
   "execution_count": 15,
   "metadata": {
    "ExecuteTime": {
     "end_time": "2023-06-30T15:59:15.411587Z",
     "start_time": "2023-06-30T15:59:15.393593500Z"
    }
   },
   "outputs": [],
   "source": [
    "def exposeResiduals_0(residual_tensor, n_epochs):\n",
    "    # equiblirium_res = LabelTensor[(n_epochs*20) x n_gridpoints^2 x components]\n",
    "    \n",
    "    # Create empty list with length n_epochs\n",
    "    residuals = []\n",
    "    n_components = len(residual_tensor[0][0])\n",
    "    for epoch in range(n_epochs):\n",
    "        # Create zeros list with length n_components\n",
    "        res_e = [0] * n_components\n",
    "        # Each epoch trains n_batch times\n",
    "        n_batches = int(len(residual_tensor)/n_epochs)\n",
    "        for i in range(n_batches):\n",
    "            gpoints_tensor = residual_tensor[epoch*n_batches + i]\n",
    "            # Convert from LabelTensor to array for easier computing\n",
    "            gpoints_array = gpoints_tensor.detach().numpy()\n",
    "            # Take the sum of absolute values\n",
    "            res_e = res_e + np.sum(np.square(gpoints_array), axis=0)\n",
    "        # print('gpoints_array:', gpoints_array)\n",
    "        # print('res_e:', res_e)\n",
    "        # Save the mean result\n",
    "        residuals.append((res_e/n_batches))\n",
    "    return np.array(residuals)\n",
    "\n",
    "def exposeResiduals(residual_tensor, n_epochs):\n",
    "    # equiblirium_res = LabelTensor[(n_epochs*20) x n_gridpoints^2 x components]\n",
    "    \n",
    "    # Create empty list with length n_epochs\n",
    "    residuals = []\n",
    "    n_components = len(residual_tensor[0][0])\n",
    "    for epoch in range(n_epochs):\n",
    "        res_e = 0\n",
    "        # Each epoch trains n_batch times\n",
    "        n_batches = int(len(residual_tensor)/n_epochs)\n",
    "        for i in range(n_batches):\n",
    "            gpoints_tensor = residual_tensor[epoch*n_batches + i]\n",
    "            gpoints_array = gpoints_tensor.detach().numpy()\n",
    "            res_e = res_e + np.mean(\n",
    "                np.mean(np.square(gpoints_array), axis=1),\n",
    "                axis=0)\n",
    "        # print('gpoints_array:', gpoints_array)\n",
    "        # print('res_e:', res_e)\n",
    "        # Save the mean result\n",
    "        residuals.append((res_e/n_batches))\n",
    "    return np.array(residuals)"
   ]
  },
  {
   "attachments": {},
   "cell_type": "markdown",
   "metadata": {},
   "source": [
    "### Create a NeuralNetwork with stress & strain Boundary Conditions"
   ]
  },
  {
   "cell_type": "code",
   "execution_count": 16,
   "metadata": {
    "ExecuteTime": {
     "end_time": "2023-06-30T15:59:15.424089900Z",
     "start_time": "2023-06-30T15:59:15.410589400Z"
    }
   },
   "outputs": [],
   "source": [
    "# Create a NeuralNetwork with stress & strain Boundary Conditions\n",
    "class BVProblem(SpatialProblem):\n",
    "\n",
    "    output_variables = ['ux', 'uy']\n",
    "    spatial_domain = CartesianDomain({'x': [0, 1], 'y': [0, 1]})\n",
    "\n",
    "    conditions = {\n",
    "        'x0': Condition(\n",
    "            location=CartesianDomain({'x': 0, 'y': [0, 1]}),\n",
    "            equation=Equation(initial_condition_left)),\n",
    "        'y0': Condition(\n",
    "            location=CartesianDomain({'x': [0, 1], 'y': 0}),\n",
    "            equation=Equation(initial_condition_bottom)),\n",
    "        'x1': Condition(\n",
    "            location=CartesianDomain({'x': 1, 'y': [0, 1]}),\n",
    "            equation=Equation(initial_condition_right)),\n",
    "        'y1': Condition(\n",
    "            location=CartesianDomain({'x': [0, 1], 'y': 1}),\n",
    "            equation=Equation(initial_condition_top)),\n",
    "        'D': Condition(\n",
    "            location=CartesianDomain({'x': [0, 1], 'y': [0, 1]}),\n",
    "            equation=Equation(equiblirium)),\n",
    "        'min_distance': Condition(\n",
    "            location=CartesianDomain({'x': [0, 1], 'y': [0, 1]}),\n",
    "            equation=Equation(calculate_minimum_distance)),\n",
    "    }\n",
    "\n",
    "bvp_problem = BVProblem()"
   ]
  },
  {
   "attachments": {},
   "cell_type": "markdown",
   "metadata": {},
   "source": [
    "### Create another NeuralNetwork with displacement Boundary Conditions"
   ]
  },
  {
   "cell_type": "code",
   "execution_count": 17,
   "metadata": {
    "ExecuteTime": {
     "end_time": "2023-06-30T15:59:15.457577200Z",
     "start_time": "2023-06-30T15:59:15.425594700Z"
    }
   },
   "outputs": [],
   "source": [
    "# Create another NeuralNetwork with displacement Boundary Conditions\n",
    "n_hlayer = 20\n",
    "class HardConstraintProblem(torch.nn.Module):\n",
    "    def __init__(self, input_dim, output_dim):\n",
    "        super().__init__()\n",
    "\n",
    "        self.layers = torch.nn.Sequential(torch.nn.Linear(input_dim, n_hlayer),\n",
    "                                          torch.nn.Tanh(),\n",
    "                                          torch.nn.Linear(n_hlayer, n_hlayer),\n",
    "                                          torch.nn.Tanh(),\n",
    "                                          torch.nn.Linear(n_hlayer, n_hlayer),\n",
    "                                          torch.nn.Tanh(),\n",
    "                                          torch.nn.Linear(n_hlayer, n_hlayer),\n",
    "                                          torch.nn.Tanh(),\n",
    "                                          torch.nn.Linear(n_hlayer, output_dim))\n",
    "\n",
    "    def forward(self, pts):\n",
    "        output = self.layers(pts)\n",
    "        # Modified: ux=0 when y=0 and uy=0 when x=0\n",
    "        ux_hard = pts.extract(['y']) * output[:, 0][:, None]\n",
    "        uy_hard = pts.extract(['x']) * output[:, 1][:, None]\n",
    "        modified_output = torch.hstack([ux_hard, uy_hard])\n",
    "        return modified_output\n",
    "\n",
    "# model = FeedForward(\n",
    "#     len(problem.input_variables),\n",
    "#     len(problem.output_variables)\n",
    "# )\n",
    "model = HardConstraintProblem(\n",
    "    len(bvp_problem.input_variables),\n",
    "    len(bvp_problem.output_variables)\n",
    ")"
   ]
  },
  {
   "attachments": {},
   "cell_type": "markdown",
   "metadata": {},
   "source": [
    "### Create some grid points"
   ]
  },
  {
   "cell_type": "code",
   "execution_count": 18,
   "metadata": {
    "ExecuteTime": {
     "end_time": "2023-06-30T16:04:31.628085600Z",
     "start_time": "2023-06-30T15:59:15.442569Z"
    }
   },
   "outputs": [
    {
     "name": "stderr",
     "output_type": "stream",
     "text": [
      "GPU available: True (cuda), used: False\n",
      "TPU available: False, using: 0 TPU cores\n",
      "IPU available: False, using: 0 IPUs\n",
      "HPU available: False, using: 0 HPUs\n",
      "C:\\Users\\Kerem\\.conda\\envs\\myPINA\\lib\\site-packages\\lightning\\pytorch\\trainer\\setup.py:176: PossibleUserWarning: GPU available but not used. Set `accelerator` and `devices` using `Trainer(accelerator='gpu', devices=1)`.\n",
      "  rank_zero_warn(\n",
      "\n",
      "  | Name        | Type    | Params\n",
      "----------------------------------------\n",
      "0 | _loss       | MSELoss | 0     \n",
      "1 | _neural_net | Network | 1.4 K \n",
      "----------------------------------------\n",
      "1.4 K     Trainable params\n",
      "0         Non-trainable params\n",
      "1.4 K     Total params\n",
      "0.005     Total estimated model params size (MB)\n"
     ]
    },
    {
     "data": {
      "text/plain": "Training: 0it [00:00, ?it/s]",
      "application/vnd.jupyter.widget-view+json": {
       "version_major": 2,
       "version_minor": 0,
       "model_id": "3ef9f53df25c459b96736a9afe573f9c"
      }
     },
     "metadata": {},
     "output_type": "display_data"
    },
    {
     "name": "stderr",
     "output_type": "stream",
     "text": [
      "`Trainer.fit` stopped: `max_epochs=101` reached.\n"
     ]
    }
   ],
   "source": [
    "# Create some grid points\n",
    "bvp_problem.discretise_domain(10, 'grid', locations=['x0','y0','x1','y1'])\n",
    "bvp_problem.discretise_domain(20, 'grid', locations=['D', 'min_distance'])\n",
    "\n",
    "# Create the solver\n",
    "solver = PINN(problem=bvp_problem,\n",
    "              model=model,\n",
    "              optimizer=torch.optim.LBFGS)\n",
    "\n",
    "n_epochs = 101\n",
    "trainer = Trainer(\n",
    "    solver=solver,\n",
    "    kwargs={'max_epochs': n_epochs, 'accelerator': 'cpu'})\n",
    "trainer.train()"
   ]
  },
  {
   "attachments": {},
   "cell_type": "markdown",
   "metadata": {},
   "source": [
    "### Plot total loss"
   ]
  },
  {
   "cell_type": "code",
   "execution_count": 19,
   "metadata": {
    "ExecuteTime": {
     "end_time": "2023-06-30T16:04:32.091387300Z",
     "start_time": "2023-06-30T16:04:31.600160Z"
    }
   },
   "outputs": [
    {
     "data": {
      "text/plain": "<Figure size 640x480 with 1 Axes>",
      "image/png": "[encoded data removed]"
     },
     "metadata": {},
     "output_type": "display_data"
    }
   ],
   "source": [
    "myloss = solver.loss_list\n",
    "plt.yscale('log')\n",
    "plt.plot(myloss)\n",
    "plt.show()"
   ]
  },
  {
   "attachments": {},
   "cell_type": "markdown",
   "metadata": {},
   "source": [
    "### Plot local losses"
   ]
  },
  {
   "cell_type": "code",
   "execution_count": 20,
   "metadata": {
    "ExecuteTime": {
     "end_time": "2023-06-30T16:04:33.295020800Z",
     "start_time": "2023-06-30T16:04:32.098368200Z"
    }
   },
   "outputs": [
    {
     "data": {
      "text/plain": "<Figure size 640x480 with 1 Axes>",
      "image/png": "[encoded data removed]"
     },
     "metadata": {},
     "output_type": "display_data"
    }
   ],
   "source": [
    "# Plot components\n",
    "plotter = Plotter()\n",
    "# plotter.plot(solver=solver, components='ux')\n",
    "# plotter.plot(solver=solver, components='uy')\n",
    "\n",
    "# Get and plot residuals\n",
    "# equiblirium_res = LabelTensor[(n_epochs*20) x n_gridpoints^2 x components]\n",
    "\n",
    "# res_fx = exposeResiduals(equiblirium_res_fx, n_epochs)\n",
    "# plt.plot(res_fx)\n",
    "# plt.show()\n",
    "# res_fy = exposeResiduals(equiblirium_res_fy, n_epochs)\n",
    "# plt.plot(res_fy)\n",
    "# plt.show()\n",
    "\n",
    "res_dis = exposeResiduals(min_dis_res, n_epochs)\n",
    "plt.plot(res_dis)\n",
    "plt.show()\n"
   ]
  }
 ],
 "metadata": {
  "kernelspec": {
   "display_name": "Python 3",
   "language": "python",
   "name": "python3"
  },
  "language_info": {
   "codemirror_mode": {
    "name": "ipython",
    "version": 3
   },
   "file_extension": ".py",
   "mimetype": "text/x-python",
   "name": "python",
   "nbconvert_exporter": "python",
   "pygments_lexer": "ipython3",
   "version": "3.11.0"
  },
  "orig_nbformat": 4
 },
 "nbformat": 4,
 "nbformat_minor": 2
}
